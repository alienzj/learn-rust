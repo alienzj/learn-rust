{
 "cells": [
  {
   "cell_type": "code",
   "execution_count": 4,
   "metadata": {},
   "outputs": [],
   "source": [
    ":dep bio = { version = \"*\"}"
   ]
  },
  {
   "cell_type": "code",
   "execution_count": 3,
   "metadata": {},
   "outputs": [
    {
     "ename": "Error",
     "evalue": "unused variable: `positions`",
     "output_type": "error",
     "traceback": [
      "        let positions = interval.occ(&positions);",
      "\u001b[91m            ^^^^^^^^^\u001b[0m \u001b[94m\u001b[0m",
      "unused variable: `positions`"
     ]
    },
    {
     "ename": "Error",
     "evalue": "`bwt` does not live long enough",
     "output_type": "error",
     "traceback": [
      "let fmindex = FMIndex::new(&bwt, &less, &occ);",
      "\u001b[91m                           ^^^^\u001b[0m \u001b[94mborrowed value does not live long enough\u001b[0m",
      "let fmindex = FMIndex::new(&bwt, &less, &occ);",
      "\u001b[91m              ^^^^^^^^^^^^^^^^^^^^^^^^^^^^^^^\u001b[0m \u001b[94margument requires that `bwt` is borrowed for `'static`\u001b[0m",
      "`bwt` does not live long enough"
     ]
    },
    {
     "ename": "Error",
     "evalue": "`less` does not live long enough",
     "output_type": "error",
     "traceback": [
      "let fmindex = FMIndex::new(&bwt, &less, &occ);",
      "\u001b[91m                                 ^^^^^\u001b[0m \u001b[94mborrowed value does not live long enough\u001b[0m",
      "let fmindex = FMIndex::new(&bwt, &less, &occ);",
      "\u001b[91m              ^^^^^^^^^^^^^^^^^^^^^^^^^^^^^^^\u001b[0m \u001b[94margument requires that `less` is borrowed for `'static`\u001b[0m",
      "`less` does not live long enough"
     ]
    },
    {
     "ename": "Error",
     "evalue": "`occ` does not live long enough",
     "output_type": "error",
     "traceback": [
      "let fmindex = FMIndex::new(&bwt, &less, &occ);",
      "\u001b[91m                                        ^^^^\u001b[0m \u001b[94mborrowed value does not live long enough\u001b[0m",
      "let fmindex = FMIndex::new(&bwt, &less, &occ);",
      "\u001b[91m              ^^^^^^^^^^^^^^^^^^^^^^^^^^^^^^^\u001b[0m \u001b[94margument requires that `occ` is borrowed for `'static`\u001b[0m",
      "`occ` does not live long enough"
     ]
    },
    {
     "ename": "Error",
     "evalue": "cannot move out of `occ` because it is borrowed",
     "output_type": "error",
     "traceback": [
      "let fmindex = FMIndex::new(&bwt, &less, &occ);",
      "\u001b[91m                                        ^^^^\u001b[0m \u001b[94mborrow of `occ` occurs here\u001b[0m",
      "let fmindex = FMIndex::new(&bwt, &less, &occ);",
      "\u001b[91m              ^^^^^^^^^^^^^^^^^^^^^^^^^^^^^^^\u001b[0m \u001b[94margument requires that `occ` is borrowed for `'static`\u001b[0m",
      "cannot move out of `occ` because it is borrowed"
     ]
    },
    {
     "ename": "Error",
     "evalue": "cannot move out of `bwt` because it is borrowed",
     "output_type": "error",
     "traceback": [
      "let fmindex = FMIndex::new(&bwt, &less, &occ);",
      "\u001b[91m                           ^^^^\u001b[0m \u001b[94mborrow of `bwt` occurs here\u001b[0m",
      "let fmindex = FMIndex::new(&bwt, &less, &occ);",
      "\u001b[91m              ^^^^^^^^^^^^^^^^^^^^^^^^^^^^^^^\u001b[0m \u001b[94margument requires that `bwt` is borrowed for `'static`\u001b[0m",
      "cannot move out of `bwt` because it is borrowed"
     ]
    },
    {
     "ename": "Error",
     "evalue": "cannot move out of `less` because it is borrowed",
     "output_type": "error",
     "traceback": [
      "let fmindex = FMIndex::new(&bwt, &less, &occ);",
      "\u001b[91m                                 ^^^^^\u001b[0m \u001b[94mborrow of `less` occurs here\u001b[0m",
      "let fmindex = FMIndex::new(&bwt, &less, &occ);",
      "\u001b[91m              ^^^^^^^^^^^^^^^^^^^^^^^^^^^^^^^\u001b[0m \u001b[94margument requires that `less` is borrowed for `'static`\u001b[0m",
      "cannot move out of `less` because it is borrowed"
     ]
    }
   ],
   "source": [
    "// Import some modules\n",
    "use bio::alphabets;\n",
    "use bio::data_structures::bwt::{bwt, less, Occ};\n",
    "use bio::data_structures::fmindex::{FMIndex, FMIndexable};\n",
    "use bio::data_structures::suffix_array::suffix_array;\n",
    "use bio::io::fastq;\n",
    "use bio::io::fastq::FastqRead;\n",
    "use std::io;\n",
    "\n",
    "// a given text\n",
    "let text = b\"ACAGCTCGATCGGTA\";\n",
    "let pattern = b\"ATCG\";\n",
    "\n",
    "// Create an FM-Index for the given text.\n",
    "\n",
    "// instantiate an alphabet\n",
    "let alphabet = alphabets::dna::iupac_alphabet();\n",
    "// calculate a suffix array\n",
    "let sa = suffix_array(text);\n",
    "// calculate the Burrows-Wheeler-transform\n",
    "let bwt = bwt(text, &sa);\n",
    "// calculate the vectors less and Occ (occurrences)\n",
    "let less = less(&bwt, &alphabet);\n",
    "let occ = Occ::new(&bwt, 3, &alphabet);\n",
    "// set up FMIndex\n",
    "let fmindex = FMIndex::new(&bwt, &less, &occ);\n",
    "// do a backwards search for the pattern\n",
    "let interval = fmindex.backward_search(pattern.iter());\n",
    "let positions = interval.occ(&sa);\n",
    "\n",
    "// Iterate over a FASTQ file, use the alphabet to validate read\n",
    "// sequences and search for exact matches in the FM-Index.\n",
    "\n",
    "// create FASTQ reader\n",
    "let mut reader = fastq::Reader::new(io::stdin());\n",
    "let mut record = fastq::Record::new();\n",
    "reader.read(&mut record).expect(\"Failed to parse record\");\n",
    "\n",
    "while !record.is_empty() {\n",
    "    let check = record.check();\n",
    "    if check.is_err() {\n",
    "        panic!(\"I got a rubbish record!\")\n",
    "    }\n",
    "    // obtain sequence\n",
    "    let seq = record.seq();\n",
    "    // check, whether seq is in the expected alphabet\n",
    "    if alphabet.is_word(seq) {\n",
    "        let interval = fmindex.backward_search(seq.iter());\n",
    "        let positions = interval.occ(&positions);\n",
    "    }\n",
    "    reader.read(&mut record).expect(\"Failed to parse record\");\n",
    "}"
   ]
  },
  {
   "cell_type": "code",
   "execution_count": 6,
   "metadata": {},
   "outputs": [
    {
     "ename": "Error",
     "evalue": "invalid format string: expected `'}'`, found `'?'`",
     "output_type": "error",
     "traceback": [
      "    println!(\"{?}\", positions);",
      "\u001b[91m               \u001b[0m \u001b[94mexpected `}` in format string\u001b[0m",
      "    println!(\"{?}\", positions);",
      "\u001b[91m              ^\u001b[0m \u001b[94mbecause of this opening brace\u001b[0m",
      "invalid format string: expected `'}'`, found `'?'`"
     ]
    }
   ],
   "source": [
    "use bio::alphabets;\n",
    "use bio::data_structures::bwt::{bwt, less, Occ};\n",
    "use bio::data_structures::fmindex::{FMIndex, FMIndexable};\n",
    "use bio::data_structures::suffix_array::suffix_array;\n",
    "use std::sync::Arc;\n",
    "use std::thread;\n",
    "\n",
    "let text = b\"ACGGATGCTGGATCGGATCGCGCTAGCTA$\";\n",
    "let patterns = vec![b\"ACCG\", b\"TGCT\"];\n",
    "\n",
    "// Create an FM-Index for a given text.\n",
    "let alphabet = alphabets::dna::iupac_alphabet();\n",
    "let sa = suffix_array(text);\n",
    "let bwt = Arc::new(bwt(text, &sa));\n",
    "let less = Arc::new(less(bwt.as_ref(), &alphabet));\n",
    "let occ = Arc::new(Occ::new(bwt.as_ref(), 3, &alphabet));\n",
    "let fmindex = Arc::new(FMIndex::new(bwt, less, occ));\n",
    "\n",
    "// Spawn threads to perform backward searches for each interval\n",
    "let interval_calculators = patterns\n",
    "    .into_iter()\n",
    "    .map(|pattern| {\n",
    "        let fmindex = fmindex.clone();\n",
    "        thread::spawn(move || fmindex.backward_search(pattern.iter()))\n",
    "    })\n",
    "    .collect::<Vec<_>>();\n",
    "\n",
    "// Loop through the results, extracting the positions array for each pattern\n",
    "for interval_calculator in interval_calculators {\n",
    "    let positions = interval_calculator.join().unwrap().occ(&sa);\n",
    "    println!(\"{}\", positions);\n",
    "}"
   ]
  },
  {
   "cell_type": "code",
   "execution_count": null,
   "metadata": {},
   "outputs": [],
   "source": [
    "# :dep evcxr_input\n",
    "\n",
    "//let mut reader = fastq::Reader::new(io::stdin());\n",
    "let mut fastq = evcxr_input::get_string(\"Fastq:\");\n",
    "\n",
    "println!(\"FASTQ: {}\", fastq);"
   ]
  }
 ],
 "metadata": {
  "kernelspec": {
   "display_name": "Rust",
   "language": "rust",
   "name": "rust"
  },
  "language_info": {
   "codemirror_mode": "rust",
   "file_extension": ".rs",
   "mimetype": "text/rust",
   "name": "Rust",
   "pygment_lexer": "rust",
   "version": ""
  }
 },
 "nbformat": 4,
 "nbformat_minor": 4
}
